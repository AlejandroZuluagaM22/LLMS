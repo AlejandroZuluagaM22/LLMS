{
  "nbformat": 4,
  "nbformat_minor": 0,
  "metadata": {
    "colab": {
      "provenance": []
    },
    "kernelspec": {
      "name": "python3",
      "display_name": "Python 3"
    },
    "language_info": {
      "name": "python"
    }
  },
  "cells": [
    {
      "cell_type": "markdown",
      "source": [
        "# Chatbot con informacion de agentes de Valorant\n",
        "\n",
        "Al inicio pense en crear un agente a base de web scrapping que me diera toda la informacion de competitivo de valorant, pero estaba teniendo muchos problemas en el acceso a la informacion de la web para los cuales no tuve tiempo solucionar, por lo cual opte por un bot sencillo que te de la informacion de cualquier agente de valorant basandose en un script (se que es un poco pocho pero no me dio el tiempo :c )\n",
        "\n",
        "Aunque funciona bien, quisiera en el futuro poder implementar una pagina que de contenidos mas visuales."
      ],
      "metadata": {
        "id": "yoG4Zb8StpER"
      }
    },
    {
      "cell_type": "code",
      "execution_count": 1,
      "metadata": {
        "id": "srpFGloxizBn"
      },
      "outputs": [],
      "source": [
        "import requests\n",
        "from bs4 import BeautifulSoup\n",
        "import json\n",
        "import openai\n",
        "from google.colab import output"
      ]
    },
    {
      "cell_type": "code",
      "source": [
        "AGENTS_INFO = {\n",
        "    \"Jett\": {\n",
        "        \"rol\": \"Duelista\",\n",
        "        \"habilidades\": [\"Cloudburst\", \"Updraft\", \"Tailwind\", \"Blade Storm\"],\n",
        "        \"descripcion\": \"Agente rápida y letal, con alta movilidad.\",\n",
        "        \"nacionalidad\": \"Corea del Sur\",\n",
        "        \"fecha_release\": \"2 de junio de 2020\"\n",
        "    },\n",
        "    \"Phoenix\": {\n",
        "        \"rol\": \"Duelista\",\n",
        "        \"habilidades\": [\"Blaze\", \"Curveball\", \"Hot Hands\", \"Run It Back\"],\n",
        "        \"descripcion\": \"Puede curarse con sus propias habilidades y es muy ofensivo.\",\n",
        "        \"nacionalidad\": \"Reino Unido\",\n",
        "        \"fecha_release\": \"2 de junio de 2020\"\n",
        "    },\n",
        "    \"Sova\": {\n",
        "        \"rol\": \"Iniciador\",\n",
        "        \"habilidades\": [\"Owl Drone\", \"Shock Bolt\", \"Recon Bolt\", \"Hunter's Fury\"],\n",
        "        \"descripcion\": \"Especialista en información y visión del enemigo.\",\n",
        "        \"nacionalidad\": \"Rusia\",\n",
        "        \"fecha_release\": \"2 de junio de 2020\"\n",
        "    },\n",
        "    \"Sage\": {\n",
        "        \"rol\": \"Centinela\",\n",
        "        \"habilidades\": [\"Barrier Orb\", \"Slow Orb\", \"Healing Orb\", \"Resurrection\"],\n",
        "        \"descripcion\": \"Sanadora del equipo, puede revivir aliados.\",\n",
        "        \"nacionalidad\": \"China\",\n",
        "        \"fecha_release\": \"2 de junio de 2020\"\n",
        "    },\n",
        "    \"Omen\": {\n",
        "        \"rol\": \"Controlador\",\n",
        "        \"habilidades\": [\"Shrouded Step\", \"Paranoia\", \"Dark Cover\", \"From the Shadows\"],\n",
        "        \"descripcion\": \"Especialista en teletransportación y confusión del enemigo.\",\n",
        "        \"nacionalidad\": \"Desconocida\",\n",
        "        \"fecha_release\": \"2 de junio de 2020\"\n",
        "    },\n",
        "    \"Reyna\": {\n",
        "        \"rol\": \"Duelista\",\n",
        "        \"habilidades\": [\"Leer\", \"Devour\", \"Dismiss\", \"Empress\"],\n",
        "        \"descripcion\": \"Una duelista autosuficiente con gran potencial de eliminación.\",\n",
        "        \"nacionalidad\": \"México\",\n",
        "        \"fecha_release\": \"2 de junio de 2020\"\n",
        "    },\n",
        "    \"Killjoy\": {\n",
        "        \"rol\": \"Centinela\",\n",
        "        \"habilidades\": [\"Nanoswarm\", \"Alarmbot\", \"Turret\", \"Lockdown\"],\n",
        "        \"descripcion\": \"Especialista en control de áreas con tecnología avanzada.\",\n",
        "        \"nacionalidad\": \"Alemania\",\n",
        "        \"fecha_release\": \"4 de agosto de 2020\"\n",
        "    },\n",
        "    \"Breach\": {\n",
        "        \"rol\": \"Iniciador\",\n",
        "        \"habilidades\": [\"Aftershock\", \"Flashpoint\", \"Fault Line\", \"Rolling Thunder\"],\n",
        "        \"descripcion\": \"Causa caos con explosiones y cegadoras.\",\n",
        "        \"nacionalidad\": \"Suecia\",\n",
        "        \"fecha_release\": \"2 de junio de 2020\"\n",
        "    },\n",
        "    \"Harbor\": {\n",
        "        \"rol\": \"Controlador\",\n",
        "        \"habilidades\": [\"Cascade\", \"Cove\", \"High Tide\", \"Reckoning\"],\n",
        "        \"descripcion\": \"Manipula el agua para proteger y avanzar.\",\n",
        "        \"nacionalidad\": \"India\",\n",
        "        \"fecha_release\": \"18 de octubre de 2022\"\n",
        "    },\n",
        "    \"Astra\": {\n",
        "        \"rol\": \"Controlador\",\n",
        "        \"habilidades\": [\"Gravity Well\", \"Nova Pulse\", \"Nebula\", \"Astral Form/Cosmic Divide\"],\n",
        "        \"descripcion\": \"Utiliza energía cósmica para controlar el campo de batalla.\",\n",
        "        \"nacionalidad\": \"Ghana\",\n",
        "        \"fecha_release\": \"2 de marzo de 2021\"\n",
        "    },\n",
        "    \"Yoru\": {\n",
        "        \"rol\": \"Duelista\",\n",
        "        \"habilidades\": [\"Fakeout\", \"Blindside\", \"Gatecrash\", \"Dimensional Drift\"],\n",
        "        \"descripcion\": \"Un maestro del engaño y la infiltración.\",\n",
        "        \"nacionalidad\": \"Japón\",\n",
        "        \"fecha_release\": \"12 de enero de 2021\"\n",
        "    },\n",
        "    \"KAY/O\": {\n",
        "        \"rol\": \"Iniciador\",\n",
        "        \"habilidades\": [\"FRAG/ment\", \"FLASH/drive\", \"ZERO/point\", \"NULL/cmd\"],\n",
        "        \"descripcion\": \"Un robot que desactiva las habilidades enemigas.\",\n",
        "        \"nacionalidad\": \"Desconocida\",\n",
        "        \"fecha_release\": \"22 de junio de 2021\"\n",
        "    },\n",
        "    \"Chamber\": {\n",
        "        \"rol\": \"Centinela\",\n",
        "        \"habilidades\": [\"Trademark\", \"Headhunter\", \"Rendezvous\", \"Tour De Force\"],\n",
        "        \"descripcion\": \"Un francotirador con herramientas letales y movilidad.\",\n",
        "        \"nacionalidad\": \"Francia\",\n",
        "        \"fecha_release\": \"16 de noviembre de 2021\"\n",
        "    },\n",
        "    \"Neon\": {\n",
        "        \"rol\": \"Duelista\",\n",
        "        \"habilidades\": [\"Fast Lane\", \"Relay Bolt\", \"High Gear\", \"Overdrive\"],\n",
        "        \"descripcion\": \"Agente filipina que se desplaza a velocidades sorprendentes, descargando ráfagas de radiancia bioeléctrica.\",\n",
        "        \"nacionalidad\": \"Filipinas\",\n",
        "        \"fecha_release\": \"11 de enero de 2022\"\n",
        "    },\n",
        "    \"Fade\": {\n",
        "        \"rol\": \"Iniciador\",\n",
        "        \"habilidades\": [\"Prowler\", \"Seize\", \"Haunt\", \"Nightfall\"],\n",
        "        \"descripcion\": \"Cazadora turca que desata el poder de las pesadillas para capturar secretos enemigos.\",\n",
        "        \"nacionalidad\": \"Turquía\",\n",
        "        \"fecha_release\": \"27 de abril de 2022\"\n",
        "    },\n",
        "    \"Gekko\": {\n",
        "        \"rol\": \"Iniciador\",\n",
        "        \"habilidades\": [\"Dizzy\", \"Wingman\", \"Mosh Pit\", \"Thrash\"],\n",
        "        \"descripcion\": \"Agente estadounidense que lidera un grupo de criaturas para emboscar a los enemigos y plantar o desactivar la spike.\",\n",
        "        \"nacionalidad\": \"Estados Unidos\",\n",
        "        \"fecha_release\": \"7 de marzo de 2023\"\n",
        "    },\n",
        "    \"Deadlock\": {\n",
        "        \"rol\": \"Centinela\",\n",
        "        \"habilidades\": [\"GravNet\", \"Sonic Sensor\", \"Barrier Mesh\", \"Annihilation\"],\n",
        "        \"descripcion\": \"Agente noruega que utiliza tecnología avanzada para detener el avance enemigo.\",\n",
        "        \"nacionalidad\": \"Noruega\",\n",
        "        \"fecha_release\": \"27 de junio de 2023\"\n",
        "    },\n",
        "    \"Vyse\": {\n",
        "        \"rol\": \"Centinela\",\n",
        "        \"habilidades\": [\"Shear\", \"Arc Rose\", \"Razorvine\", \"Steel Garden\"],\n",
        "        \"descripcion\": \"Maestra metálica que utiliza metal líquido para aislar, atrapar y desarmar a sus enemigos, manipulando el campo de batalla a su favor.\",\n",
        "        \"nacionalidad\": \"Desconocida\",\n",
        "        \"fecha_release\": \"28 de agosto de 2024\"\n",
        "    },\n",
        "    \"Tejo\": {\n",
        "        \"rol\": \"Iniciador\",\n",
        "        \"habilidades\": [\"Special Delivery\", \"Stealth Drone\", \"Guided Salvo\", \"Armageddon\"],\n",
        "        \"descripcion\": \"Experto en balística colombiano que utiliza su arsenal para despejar áreas y proporcionar ventajas tácticas a su equipo.\",\n",
        "        \"nacionalidad\": \"Colombia\",\n",
        "        \"fecha_release\": \"8 de enero de 2025\"\n",
        "    },\n",
        "    \"Clove\": {\n",
        "        \"rol\": \"Controlador\",\n",
        "        \"habilidades\": [\"Meddle\", \"Ruse\", \"Pick-Me-Up\", \"Not Dead Yet\"],\n",
        "        \"descripcion\": \"Joven inmortal escocés que crea travesuras para los enemigos tanto en el calor del combate como en el frío de la muerte, manteniendo a los enemigos adivinando incluso desde más allá de la tumba.\",\n",
        "        \"nacionalidad\": \"Escocia\",\n",
        "        \"fecha_release\": \"27 de marzo de 2024\"\n",
        "    }\n",
        "}\n",
        "\n"
      ],
      "metadata": {
        "id": "ZWE059Zaky2h"
      },
      "execution_count": 2,
      "outputs": []
    },
    {
      "cell_type": "code",
      "source": [
        "def get_agent_info(agent_name):\n",
        "    \"\"\"\n",
        "    Devuelve información sobre un agente de Valorant.\n",
        "    \"\"\"\n",
        "    agent_name = agent_name.title()\n",
        "    return AGENTS_INFO.get(agent_name, {\"error\": \"No se encontró información sobre ese agente.\"})"
      ],
      "metadata": {
        "id": "IibWznMOk2MV"
      },
      "execution_count": 3,
      "outputs": []
    },
    {
      "cell_type": "code",
      "source": [
        "def chat_with_openai(prompt):\n",
        "    \"\"\"\n",
        "    Chatbot basado en OpenAI para responder preguntas sobre los agentes de Valorant.\n",
        "    \"\"\"\n",
        "    openai.api_key = \"TU_API_KEY\"\n",
        "    response = openai.ChatCompletion.create(\n",
        "        model=\"gpt-4\",\n",
        "        messages=[{\"role\": \"system\", \"content\": \"Eres un experto en los agentes de Valorant.\"},\n",
        "                  {\"role\": \"user\", \"content\": prompt}]\n",
        "    )\n",
        "    return response[\"choices\"][0][\"message\"][\"content\"]"
      ],
      "metadata": {
        "id": "Km4vju3jk8Go"
      },
      "execution_count": 4,
      "outputs": []
    },
    {
      "cell_type": "code",
      "source": [
        "if __name__ == \"__main__\":\n",
        "    output.clear()\n",
        "    print(\"✅ Información de los agentes de Valorant cargada.\")\n",
        "\n",
        "    while True:\n",
        "        agent_name = input(\"🔹 Escribe el nombre de un agente para obtener información (o escribe 'salir' para terminar): \")\n",
        "        if agent_name.lower() == \"salir\":\n",
        "            print(\"👋 Saliendo del programa. ¡Hasta luego!\")\n",
        "            break\n",
        "        agent_info = get_agent_info(agent_name)\n",
        "        print(\"📌 Información del agente:\", json.dumps(agent_info, indent=4))\n",
        "\n",
        "        user_question = input(\"🔹 Pregunta sobre los agentes (o escribe 'salir' para terminar): \")\n",
        "        if user_question.lower() == \"salir\":\n",
        "            print(\"👋 Saliendo del programa. ¡Hasta luego!\")\n",
        "            break\n",
        "        response = chat_with_openai(user_question)\n",
        "        print(\"🤖 Respuesta del chatbot:\", response)\n",
        "\n"
      ],
      "metadata": {
        "colab": {
          "base_uri": "https://localhost:8080/"
        },
        "id": "PYoiVd6Zlgnf",
        "outputId": "95a1d6dc-2a17-4f6f-c066-15a5c94b8669"
      },
      "execution_count": 6,
      "outputs": [
        {
          "output_type": "stream",
          "name": "stdout",
          "text": [
            "✅ Información de los agentes de Valorant cargada.\n",
            "🔹 Escribe el nombre de un agente para obtener información (o escribe 'salir' para terminar): salir\n",
            "👋 Saliendo del programa. ¡Hasta luego!\n"
          ]
        }
      ]
    }
  ]
}